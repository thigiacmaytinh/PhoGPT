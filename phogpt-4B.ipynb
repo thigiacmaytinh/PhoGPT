{
 "cells": [
  {
   "cell_type": "code",
   "execution_count": 2,
   "metadata": {},
   "outputs": [
    {
     "name": "stderr",
     "output_type": "stream",
     "text": [
      "c:\\Users\\z230\\AppData\\Local\\Programs\\Python\\Python37\\lib\\site-packages\\tqdm\\auto.py:21: TqdmWarning: IProgress not found. Please update jupyter and ipywidgets. See https://ipywidgets.readthedocs.io/en/stable/user_install.html\n",
      "  from .autonotebook import tqdm as notebook_tqdm\n",
      "C:\\Users\\z230/.cache\\huggingface\\modules\\transformers_modules\\vinai\\PhoGPT-4B-Chat\\191b9a4413cba6882bf553bcb635d033948b7d70\\configuration_mpt.py:97: UserWarning: alibi is turned on, setting `learned_pos_emb` to `False.`\n",
      "  warnings.warn(f'alibi is turned on, setting `learned_pos_emb` to `False.`')\n"
     ]
    }
   ],
   "source": [
    "# coding: utf8\n",
    "import torch\n",
    "from transformers import AutoConfig, AutoModelForCausalLM, AutoTokenizer\n",
    "\n",
    "model_path = \"vinai/PhoGPT-4B-Chat\"  \n",
    "\n",
    "config = AutoConfig.from_pretrained(model_path, trust_remote_code=True)  \n",
    "config.init_device = \"cuda\"\n",
    "\n",
    "model = AutoModelForCausalLM.from_pretrained(model_path, config=config, torch_dtype=torch.bfloat16, trust_remote_code=True)\n",
    "# If your GPU does not support bfloat16:\n",
    "# model = AutoModelForCausalLM.from_pretrained(model_path, config=config, torch_dtype=torch.float16, trust_remote_code=True)\n",
    "model.eval()  \n",
    "\n",
    "tokenizer = AutoTokenizer.from_pretrained(model_path, trust_remote_code=True)  \n",
    "\n",
    "PROMPT_TEMPLATE = \"### Câu hỏi: {instruction}\\n### Trả lời:\"  \n",
    "\n",
    "# Some instruction examples\n",
    "# instruction = \"Viết bài văn nghị luận xã hội về {topic}\"\n",
    "# instruction = \"Viết bản mô tả công việc cho vị trí {job_title}\"\n",
    "# instruction = \"Sửa lỗi chính tả:\\n{sentence_or_paragraph}\"\n",
    "# instruction = \"Dựa vào văn bản sau đây:\\n{text}\\nHãy trả lời câu hỏi: {question}\"\n",
    "# instruction = \"Tóm tắt văn bản:\\n{text}\"\n",
    "# instruction = \"Sửa lỗi chính tả:\\nTriệt phá băng nhóm kướp ô tô, sử dụng \\\"vũ khí nóng\\\"\"\n"
   ]
  },
  {
   "cell_type": "code",
   "execution_count": 4,
   "metadata": {},
   "outputs": [
    {
     "name": "stdout",
     "output_type": "stream",
     "text": [
      "Sổ đỏ là loại giấy chứng nhận quyền sử dụng đất, cấp cho người sử dụng đất để bảo vệ quyền và lợi ích hợp pháp của họ. Sổ này có màu đỏ, do Bộ Tài nguyên và Môi trường ban hành và có một số đặc điểm như sau:\n",
      "\n",
      "1. Sổ đỏ là loại sổ có bìa cứng, có một tờ bìa cứng bên ngoài, trang đầu tiên ghi các thông tin như họ và tên của người đứng tên, ngày tháng năm sinh, số CMND, hộ khẩu thường trú, ngày cấp giấy chứng nhận quyền sử dụng đất và mục đích sử dụng đất.\n",
      "\n",
      "2. Trên trang 2, trang 3 của sổ đỏ là các thông tin về thửa đất, bao gồm diện tích đất, hình dạng, địa chỉ thửa đất, mục đích sử dụng đất, ngày tháng năm cấp giấy chứng nhận và số thửa.\n",
      "\n",
      "3. Sổ đỏ có một trang bìa trước, bao gồm hình ảnh thửa đất và các thông tin liên quan đến việc sử dụng đất. Trang bìa sau là các thông tin về tài khoản thửa đất và các thông tin khác về thửa đất.\n",
      "\n",
      "Sổ hồng là loại giấy chứng nhận quyền sở hữu nhà và quyền sử dụng đất, được cấp cho người đứng tên trên sổ. Sổ này có màu hồng và do Bộ Xây dựng ban hành. Có một số đặc điểm như sau:\n",
      "\n",
      "1. Sổ hồng là loại giấy có bìa cứng, có hai tờ bìa cứng bên ngoài, trang đầu tiên ghi các thông tin như họ và tên của người đứng tên, ngày tháng năm sinh, số CMND, hộ khẩu thường trú, ngày cấp giấy chứng nhận và mục đích sử dụng đất.\n",
      "\n",
      "2. Trang 2, trang 3 của sổ hồng là các thông tin về thửa đất, bao gồm diện tích đất, hình dạng, địa chỉ thửa đất, mục đích sử dụng đất, ngày tháng năm cấp giấy chứng nhận và số thửa.\n",
      "\n",
      "3. Sổ hồng có một trang bìa trước, bao gồm hình ảnh về căn nhà và các thông tin liên quan đến việc sử dụng căn nhà.\n",
      "\n",
      "Cả hai loại giấy này đều có giá trị pháp lý như nhau và được sử dụng trong việc giao dịch liên quan đến đất và nhà ở.\n"
     ]
    }
   ],
   "source": [
    "instruction = \"Sự khác nhau giữa sổ đỏ và sổ hồng là gì\"\n",
    "\n",
    "input_prompt = PROMPT_TEMPLATE.format_map({\"instruction\": instruction})\n",
    "input_ids = tokenizer(input_prompt, return_tensors=\"pt\")\n",
    "\n",
    "outputs = model.generate(  \n",
    "    inputs=input_ids[\"input_ids\"].to(\"cuda\"),  \n",
    "    attention_mask=input_ids[\"attention_mask\"].to(\"cuda\"),  \n",
    "    do_sample=True,  \n",
    "    temperature=1.0,  \n",
    "    top_k=50,  \n",
    "    top_p=0.9,  \n",
    "    max_new_tokens=1024,  \n",
    "    eos_token_id=tokenizer.eos_token_id,  \n",
    "    pad_token_id=tokenizer.pad_token_id  \n",
    ")  \n",
    "\n",
    "response = tokenizer.batch_decode(outputs, skip_special_tokens=True)[0]  \n",
    "response = response.split(\"### Trả lời:\")[1]\n",
    "print(response)"
   ]
  }
 ],
 "metadata": {
  "kernelspec": {
   "display_name": "Python 3",
   "language": "python",
   "name": "python3"
  },
  "language_info": {
   "codemirror_mode": {
    "name": "ipython",
    "version": 3
   },
   "file_extension": ".py",
   "mimetype": "text/x-python",
   "name": "python",
   "nbconvert_exporter": "python",
   "pygments_lexer": "ipython3",
   "version": "3.7.3"
  }
 },
 "nbformat": 4,
 "nbformat_minor": 2
}
